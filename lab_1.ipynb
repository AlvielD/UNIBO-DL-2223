{
  "nbformat": 4,
  "nbformat_minor": 0,
  "metadata": {
    "colab": {
      "provenance": [],
      "authorship_tag": "ABX9TyO6HkI684WnbUFuX2RFLGd8",
      "include_colab_link": true
    },
    "kernelspec": {
      "name": "python3",
      "display_name": "Python 3"
    },
    "language_info": {
      "name": "python"
    },
    "accelerator": "GPU",
    "gpuClass": "standard"
  },
  "cells": [
    {
      "cell_type": "markdown",
      "metadata": {
        "id": "view-in-github",
        "colab_type": "text"
      },
      "source": [
        "<a href=\"https://colab.research.google.com/github/AlvielD/unibo_dl_2223/blob/main/lab_1.ipynb\" target=\"_parent\"><img src=\"https://colab.research.google.com/assets/colab-badge.svg\" alt=\"Open In Colab\"/></a>"
      ]
    },
    {
      "cell_type": "markdown",
      "source": [
        "# Laboratory lesson 1 - Introduction to Deep Learning"
      ],
      "metadata": {
        "id": "jBfmUnLcAh-Q"
      }
    },
    {
      "cell_type": "markdown",
      "source": [
        "## Libraries and config."
      ],
      "metadata": {
        "id": "2macTEVZDI_u"
      }
    },
    {
      "cell_type": "code",
      "execution_count": 30,
      "metadata": {
        "id": "lUE-aznZAO2u"
      },
      "outputs": [],
      "source": [
        "# Specific libraries\n",
        "import tensorflow as tf\n",
        "from tensorflow.keras.utils import to_categorical\n",
        "from tensorflow.keras.models import Model, Sequential\n",
        "from tensorflow.keras.layers import Dense, Flatten, Input\n",
        "\n",
        "# General libraries\n",
        "import numpy as np\n",
        "import matplotlib.pyplot as plt"
      ]
    },
    {
      "cell_type": "code",
      "source": [
        "# Check some data of the GPU (NEED TO HAVE THE HARDWARE ACCELERATION ACTIVATED)\n",
        "!nvidia-smi"
      ],
      "metadata": {
        "colab": {
          "base_uri": "https://localhost:8080/"
        },
        "id": "Rcp9RZ4DDSx-",
        "outputId": "84d4df41-b7e7-4c47-f585-441ad3a6929e"
      },
      "execution_count": 2,
      "outputs": [
        {
          "output_type": "stream",
          "name": "stdout",
          "text": [
            "Wed Mar  8 16:28:47 2023       \n",
            "+-----------------------------------------------------------------------------+\n",
            "| NVIDIA-SMI 525.85.12    Driver Version: 525.85.12    CUDA Version: 12.0     |\n",
            "|-------------------------------+----------------------+----------------------+\n",
            "| GPU  Name        Persistence-M| Bus-Id        Disp.A | Volatile Uncorr. ECC |\n",
            "| Fan  Temp  Perf  Pwr:Usage/Cap|         Memory-Usage | GPU-Util  Compute M. |\n",
            "|                               |                      |               MIG M. |\n",
            "|===============================+======================+======================|\n",
            "|   0  Tesla T4            Off  | 00000000:00:04.0 Off |                    0 |\n",
            "| N/A   62C    P0    29W /  70W |      0MiB / 15360MiB |      0%      Default |\n",
            "|                               |                      |                  N/A |\n",
            "+-------------------------------+----------------------+----------------------+\n",
            "                                                                               \n",
            "+-----------------------------------------------------------------------------+\n",
            "| Processes:                                                                  |\n",
            "|  GPU   GI   CI        PID   Type   Process name                  GPU Memory |\n",
            "|        ID   ID                                                   Usage      |\n",
            "|=============================================================================|\n",
            "|  No running processes found                                                 |\n",
            "+-----------------------------------------------------------------------------+\n"
          ]
        }
      ]
    },
    {
      "cell_type": "markdown",
      "source": [
        "## Data loading"
      ],
      "metadata": {
        "id": "Y_DlErd1DlWz"
      }
    },
    {
      "cell_type": "code",
      "source": [
        "fashion_mnist = tf.keras.datasets.fashion_mnist\n",
        "\n",
        "(x_train, y_train), (x_test, y_test) = fashion_mnist.load_data()"
      ],
      "metadata": {
        "id": "8TEf0jO0Dmj7"
      },
      "execution_count": 23,
      "outputs": []
    },
    {
      "cell_type": "markdown",
      "source": [
        "## Inspect dataset"
      ],
      "metadata": {
        "id": "6jw5f7_lEThO"
      }
    },
    {
      "cell_type": "code",
      "source": [
        "# Check shape of the datasets\n",
        "print(\"Traing dataset:\")\n",
        "print(f\"- X -> {x_train.shape}\")\n",
        "print(f\"- Y -> {y_train.shape}\")\n",
        "\n",
        "print(\"Test dataset:\")\n",
        "print(f\"- X -> {x_test.shape}\")\n",
        "print(f\"- Y -> {y_test.shape}\")"
      ],
      "metadata": {
        "colab": {
          "base_uri": "https://localhost:8080/"
        },
        "id": "9RjDaxynD0R3",
        "outputId": "21345e18-b90c-4c2d-b03d-0a6b6bc63a90"
      },
      "execution_count": 24,
      "outputs": [
        {
          "output_type": "stream",
          "name": "stdout",
          "text": [
            "Traing dataset:\n",
            "- X -> (60000, 28, 28)\n",
            "- Y -> (60000,)\n",
            "Test dataset:\n",
            "- X -> (10000, 28, 28)\n",
            "- Y -> (10000,)\n"
          ]
        }
      ]
    },
    {
      "cell_type": "code",
      "source": [
        "# Check max and min values\n",
        "print(f\"Maximum value of the train dataset: {x_train.max()}\")\n",
        "print(f\"Minimum value of the train dataset: {x_train.min()}\")"
      ],
      "metadata": {
        "colab": {
          "base_uri": "https://localhost:8080/"
        },
        "id": "YRXGQXWkEVwU",
        "outputId": "15b56398-769f-4128-8363-b555e3a68df0"
      },
      "execution_count": 25,
      "outputs": [
        {
          "output_type": "stream",
          "name": "stdout",
          "text": [
            "Maximum value of the train dataset: 255\n",
            "Minimum value of the train dataset: 0\n"
          ]
        }
      ]
    },
    {
      "cell_type": "markdown",
      "source": [
        "## Preprocessing"
      ],
      "metadata": {
        "id": "hIDN2mofJM2J"
      }
    },
    {
      "cell_type": "code",
      "source": [
        "# Define the function to normalize the data\n",
        "normalize_data = lambda X: (X-X.min())/(X.max()-X.min())\n",
        "\n",
        "# Apply function on the dataset\n",
        "x_train = normalize_data(x_train)\n",
        "x_test = normalize_data(x_test)"
      ],
      "metadata": {
        "id": "oFFC93vjEwij"
      },
      "execution_count": 26,
      "outputs": []
    },
    {
      "cell_type": "code",
      "source": [
        "# Check max and min values AFTER APPLYING NORMALIZATION\n",
        "print(f\"Maximum value of the train dataset: {x_train.max()}\")\n",
        "print(f\"Minimum value of the train dataset: {x_train.min()}\")"
      ],
      "metadata": {
        "colab": {
          "base_uri": "https://localhost:8080/"
        },
        "id": "RgWu9_bRFvs6",
        "outputId": "09ec1df4-c124-43c6-c3fd-db9fe574c608"
      },
      "execution_count": 27,
      "outputs": [
        {
          "output_type": "stream",
          "name": "stdout",
          "text": [
            "Maximum value of the train dataset: 1.0\n",
            "Minimum value of the train dataset: 0.0\n"
          ]
        }
      ]
    },
    {
      "cell_type": "code",
      "source": [
        "# Labels of the dataset\n",
        "print(np.unique(y_train))"
      ],
      "metadata": {
        "colab": {
          "base_uri": "https://localhost:8080/"
        },
        "id": "p3mQ1LzsHJrM",
        "outputId": "28f73eaf-6c0a-4a81-b99a-c73a5a149beb"
      },
      "execution_count": 28,
      "outputs": [
        {
          "output_type": "stream",
          "name": "stdout",
          "text": [
            "[0 1 2 3 4 5 6 7 8 9]\n"
          ]
        }
      ]
    },
    {
      "cell_type": "code",
      "source": [
        "# Perform one-hot-encoding with keras\n",
        "print(f\"Before encoding: {y_train[0]}\")\n",
        "y_train = to_categorical(y_train)\n",
        "y_test = to_categorical(y_test)\n",
        "print(f\"After encoding: {y_train[0]}\")"
      ],
      "metadata": {
        "colab": {
          "base_uri": "https://localhost:8080/"
        },
        "id": "I2fBG0XzIA51",
        "outputId": "7ab2df07-9846-4b36-c032-7e49af9d0bf2"
      },
      "execution_count": 29,
      "outputs": [
        {
          "output_type": "stream",
          "name": "stdout",
          "text": [
            "Before encoding: 9\n",
            "After encoding: [0. 0. 0. 0. 0. 0. 0. 0. 0. 1.]\n"
          ]
        }
      ]
    },
    {
      "cell_type": "markdown",
      "source": [
        "## Model"
      ],
      "metadata": {
        "id": "twM1U7ydJJiI"
      }
    },
    {
      "cell_type": "markdown",
      "source": [
        "### Sequential model"
      ],
      "metadata": {
        "id": "CCRuZQESMSMF"
      }
    },
    {
      "cell_type": "code",
      "source": [
        "\"\"\"\n",
        "Define a sequential model with the following characteristics\n",
        "  - Flatten input layer\n",
        "  - Dense layer of 64 units\n",
        "  - Output layer (also dense), needs to be 10 because of the number of labels we\n",
        "    need to predict. We will define \"softmax\" as activation function.\n",
        "\"\"\"\n",
        "model = Sequential([Flatten(), Dense(64), Dense(10, activation=\"softmax\")])"
      ],
      "metadata": {
        "id": "4-IbtZ_mJK1S"
      },
      "execution_count": null,
      "outputs": []
    },
    {
      "cell_type": "markdown",
      "source": [
        "### Functional model"
      ],
      "metadata": {
        "id": "vG56TNPJMU0X"
      }
    },
    {
      "cell_type": "code",
      "source": [
        "def build_model(input_shape, output_shape):\n",
        "  \"\"\"\n",
        "  Function that defines a model, this way, we can re-instantiate the\n",
        "  model each time we need to modify it.\n",
        "\n",
        "  Parameters\n",
        "  ----------\n",
        "  input_shape : np.shape\n",
        "    shape of the input layer\n",
        "  output_shape : np.shape\n",
        "    shape of the output layer\n",
        "\n",
        "  Returns\n",
        "  -------\n",
        "  model\n",
        "    the built model\n",
        "  \"\"\"\n",
        "\n",
        "  # Define the layers of the model\n",
        "  input = Input(input_shape)  # Input layer\n",
        "  flatten = Flatten()(input)  # Flatten layer (28x28) -> (784)\n",
        "\n",
        "  dense_1 = Dense(64, activation='relu')(flatten)# Hidden layer with 64 units\n",
        "  dense_2 = Dense(output_shape, activation='softmax')(dense_1) # Output layer with softmax\n",
        "\n",
        "  model = Model(inputs=input, outputs=dense_2)  # Build model\n",
        "  model.summary() # Print summary of the model\n",
        "\n",
        "  return model\n"
      ],
      "metadata": {
        "id": "0PVLO60mMQil"
      },
      "execution_count": 34,
      "outputs": []
    },
    {
      "cell_type": "code",
      "source": [
        "model = build_model((28, 28), 10)"
      ],
      "metadata": {
        "colab": {
          "base_uri": "https://localhost:8080/"
        },
        "id": "3qvjkWTIOUlh",
        "outputId": "1a7eb8c8-8da4-470e-b869-d3dbe6f7eb96"
      },
      "execution_count": 46,
      "outputs": [
        {
          "output_type": "stream",
          "name": "stdout",
          "text": [
            "Model: \"model_1\"\n",
            "_________________________________________________________________\n",
            " Layer (type)                Output Shape              Param #   \n",
            "=================================================================\n",
            " input_3 (InputLayer)        [(None, 28, 28)]          0         \n",
            "                                                                 \n",
            " flatten_2 (Flatten)         (None, 784)               0         \n",
            "                                                                 \n",
            " dense_4 (Dense)             (None, 64)                50240     \n",
            "                                                                 \n",
            " dense_5 (Dense)             (None, 10)                650       \n",
            "                                                                 \n",
            "=================================================================\n",
            "Total params: 50,890\n",
            "Trainable params: 50,890\n",
            "Non-trainable params: 0\n",
            "_________________________________________________________________\n"
          ]
        }
      ]
    },
    {
      "cell_type": "markdown",
      "source": [
        "## Train the model"
      ],
      "metadata": {
        "id": "hD0APPqlRIAW"
      }
    },
    {
      "cell_type": "code",
      "source": [
        "model.compile(optimizer=tf.keras.optimizers.Adam(), loss='categorical_crossentropy', metrics='accuracy')"
      ],
      "metadata": {
        "id": "nUyIlNYDRJEz"
      },
      "execution_count": 47,
      "outputs": []
    },
    {
      "cell_type": "code",
      "source": [
        "# Train the model on the training set using 10 epochs and a 10% of the data for validation\n",
        "history = model.fit(x_train, y_train, epochs=10, validation_split=0.1)"
      ],
      "metadata": {
        "colab": {
          "base_uri": "https://localhost:8080/"
        },
        "id": "maBz4xfRR_-T",
        "outputId": "3114edd8-d531-40cd-c88a-5363e5479851"
      },
      "execution_count": 48,
      "outputs": [
        {
          "output_type": "stream",
          "name": "stdout",
          "text": [
            "Epoch 1/10\n",
            "1688/1688 [==============================] - 7s 4ms/step - loss: 0.5345 - accuracy: 0.8146 - val_loss: 0.5173 - val_accuracy: 0.8110\n",
            "Epoch 2/10\n",
            "1688/1688 [==============================] - 5s 3ms/step - loss: 0.4019 - accuracy: 0.8577 - val_loss: 0.3863 - val_accuracy: 0.8578\n",
            "Epoch 3/10\n",
            "1688/1688 [==============================] - 6s 3ms/step - loss: 0.3596 - accuracy: 0.8704 - val_loss: 0.3763 - val_accuracy: 0.8675\n",
            "Epoch 4/10\n",
            "1688/1688 [==============================] - 5s 3ms/step - loss: 0.3358 - accuracy: 0.8777 - val_loss: 0.3569 - val_accuracy: 0.8700\n",
            "Epoch 5/10\n",
            "1688/1688 [==============================] - 6s 4ms/step - loss: 0.3167 - accuracy: 0.8853 - val_loss: 0.3554 - val_accuracy: 0.8720\n",
            "Epoch 6/10\n",
            "1688/1688 [==============================] - 5s 3ms/step - loss: 0.3030 - accuracy: 0.8886 - val_loss: 0.3362 - val_accuracy: 0.8795\n",
            "Epoch 7/10\n",
            "1688/1688 [==============================] - 5s 3ms/step - loss: 0.2921 - accuracy: 0.8925 - val_loss: 0.3391 - val_accuracy: 0.8810\n",
            "Epoch 8/10\n",
            "1688/1688 [==============================] - 6s 3ms/step - loss: 0.2816 - accuracy: 0.8952 - val_loss: 0.3328 - val_accuracy: 0.8802\n",
            "Epoch 9/10\n",
            "1688/1688 [==============================] - 5s 3ms/step - loss: 0.2729 - accuracy: 0.9002 - val_loss: 0.3276 - val_accuracy: 0.8870\n",
            "Epoch 10/10\n",
            "1688/1688 [==============================] - 6s 4ms/step - loss: 0.2675 - accuracy: 0.9012 - val_loss: 0.3262 - val_accuracy: 0.8825\n"
          ]
        }
      ]
    },
    {
      "cell_type": "code",
      "source": [
        "# Evaluate the model\n",
        "model.evaluate(x_test, y_test)"
      ],
      "metadata": {
        "colab": {
          "base_uri": "https://localhost:8080/"
        },
        "id": "NIa84fvCSu39",
        "outputId": "5d945da1-8c98-41f4-f4c8-09401f7a736c"
      },
      "execution_count": 49,
      "outputs": [
        {
          "output_type": "stream",
          "name": "stdout",
          "text": [
            "313/313 [==============================] - 1s 2ms/step - loss: 0.3528 - accuracy: 0.8779\n"
          ]
        },
        {
          "output_type": "execute_result",
          "data": {
            "text/plain": [
              "[0.35278406739234924, 0.8779000043869019]"
            ]
          },
          "metadata": {},
          "execution_count": 49
        }
      ]
    },
    {
      "cell_type": "code",
      "source": [
        "# Plot a history of the loss vs the val_loss\n",
        "plt.plot(history.history['loss'])\n",
        "plt.plot(history.history['val_loss'])\n",
        "plt.show()"
      ],
      "metadata": {
        "colab": {
          "base_uri": "https://localhost:8080/",
          "height": 265
        },
        "id": "vmoGDOZyS8pg",
        "outputId": "61451fd0-573d-447d-a337-4eb6e6f55836"
      },
      "execution_count": 50,
      "outputs": [
        {
          "output_type": "display_data",
          "data": {
            "text/plain": [
              "<Figure size 432x288 with 1 Axes>"
            ],
            "image/png": "[encoded data removed]"
          },
          "metadata": {
            "needs_background": "light"
          }
        }
      ]
    },
    {
      "cell_type": "markdown",
      "source": [
        "## Early Stopping"
      ],
      "metadata": {
        "id": "1gchBI9hUbWi"
      }
    },
    {
      "cell_type": "code",
      "source": [
        "%tensorboard --logdir logs/fit"
      ],
      "metadata": {
        "colab": {
          "base_uri": "https://localhost:8080/"
        },
        "id": "JWRT2soGUdPA",
        "outputId": "6dfe2131-2fb2-4ceb-b0ff-4179318dc609"
      },
      "execution_count": 51,
      "outputs": [
        {
          "output_type": "stream",
          "name": "stderr",
          "text": [
            "UsageError: Line magic function `%tensorboard` not found.\n"
          ]
        }
      ]
    },
    {
      "cell_type": "code",
      "source": [],
      "metadata": {
        "id": "Fu4aJclcUgt4"
      },
      "execution_count": null,
      "outputs": []
    }
  ]
}